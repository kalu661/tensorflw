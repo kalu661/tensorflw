{
 "cells": [
  {
   "cell_type": "code",
   "execution_count": 6,
   "metadata": {},
   "outputs": [
    {
     "ename": "TypeError",
     "evalue": "ImageDraw.ellipse() missing 1 required positional argument: 'xy'",
     "output_type": "error",
     "traceback": [
      "\u001b[1;31m---------------------------------------------------------------------------\u001b[0m",
      "\u001b[1;31mTypeError\u001b[0m                                 Traceback (most recent call last)",
      "\u001b[1;32mc:\\Users\\kalu\\Documents\\I.P.F\\Seminario de Actualizacion\\IA\\tensor-help\\python\\img to tensor\\pixel.ipynb Cell 1'\u001b[0m in \u001b[0;36m<cell line: 8>\u001b[1;34m()\u001b[0m\n\u001b[0;32m      <a href='vscode-notebook-cell:/c%3A/Users/kalu/Documents/I.P.F/Seminario%20de%20Actualizacion/IA/tensor-help/python/img%20to%20tensor/pixel.ipynb#ch0000000?line=5'>6</a>\u001b[0m draw\u001b[39m.\u001b[39mline((\u001b[39m100\u001b[39m,\u001b[39m200\u001b[39m, \u001b[39m150\u001b[39m,\u001b[39m100\u001b[39m), fill\u001b[39m=\u001b[39m\u001b[39m128\u001b[39m)\n\u001b[0;32m      <a href='vscode-notebook-cell:/c%3A/Users/kalu/Documents/I.P.F/Seminario%20de%20Actualizacion/IA/tensor-help/python/img%20to%20tensor/pixel.ipynb#ch0000000?line=6'>7</a>\u001b[0m draw\u001b[39m.\u001b[39mline((\u001b[39m200\u001b[39m,\u001b[39m200\u001b[39m, \u001b[39m150\u001b[39m,\u001b[39m100\u001b[39m), fill\u001b[39m=\u001b[39m\u001b[39m128\u001b[39m)\n\u001b[1;32m----> <a href='vscode-notebook-cell:/c%3A/Users/kalu/Documents/I.P.F/Seminario%20de%20Actualizacion/IA/tensor-help/python/img%20to%20tensor/pixel.ipynb#ch0000000?line=7'>8</a>\u001b[0m draw\u001b[39m.\u001b[39;49mellipse()\n\u001b[0;32m      <a href='vscode-notebook-cell:/c%3A/Users/kalu/Documents/I.P.F/Seminario%20de%20Actualizacion/IA/tensor-help/python/img%20to%20tensor/pixel.ipynb#ch0000000?line=8'>9</a>\u001b[0m im\u001b[39m.\u001b[39mshow()\n",
      "\u001b[1;31mTypeError\u001b[0m: ImageDraw.ellipse() missing 1 required positional argument: 'xy'"
     ]
    }
   ],
   "source": [
    "from PIL import Image, ImageDraw\n",
    "im = Image.new('RGBA', (400, 400), (255, 255, 255, 255)) \n",
    "draw = ImageDraw.Draw(im) \n",
    "draw.line((200,200, 150,300), fill=128)\n",
    "draw.line((100,200, 150,300), fill=128)\n",
    "draw.line((100,200, 150,100), fill=128)\n",
    "draw.line((200,200, 150,100), fill=128)\n",
    "im.show()"
   ]
  },
  {
   "cell_type": "code",
   "execution_count": null,
   "metadata": {},
   "outputs": [],
   "source": [
    "draw.line((100,200, 150, 300), fill=128, width=3)"
   ]
  }
 ],
 "metadata": {
  "interpreter": {
   "hash": "369f2c481f4da34e4445cda3fffd2e751bd1c4d706f27375911949ba6bb62e1c"
  },
  "kernelspec": {
   "display_name": "Python 3.10.4 64-bit",
   "language": "python",
   "name": "python3"
  },
  "language_info": {
   "codemirror_mode": {
    "name": "ipython",
    "version": 3
   },
   "file_extension": ".py",
   "mimetype": "text/x-python",
   "name": "python",
   "nbconvert_exporter": "python",
   "pygments_lexer": "ipython3",
   "version": "3.10.4"
  },
  "orig_nbformat": 4
 },
 "nbformat": 4,
 "nbformat_minor": 2
}
